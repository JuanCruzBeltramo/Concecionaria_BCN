{
 "cells": [
  {
   "cell_type": "markdown",
   "metadata": {},
   "source": [
    "## Modelos predictivos"
   ]
  },
  {
   "cell_type": "markdown",
   "metadata": {},
   "source": [
    "1. Eliminar columnas donde hay valores nulos para poder crear un modelo sin esas columnas. (shift, color)\n",
    "2. Eliminar filas donde hay valores nulos.\n",
    "3. Imputar: cojer las columnas donde hay valores nulos (menos la columna de precio financiado) y eliminarlas, luego hacer un modelo predictivo que prediga esa misma columna (por ejemplo, \"shift\").\n",
    "4. Hacer un modelo NO supervisado utilizando el metodo \"cluster\" con toda la data limpia."
   ]
  },
  {
   "cell_type": "markdown",
   "metadata": {},
   "source": [
    "## Ejemplos de graficos para EDA"
   ]
  },
  {
   "cell_type": "markdown",
   "metadata": {},
   "source": [
    "https://matplotlib.org/stable/gallery/index.html"
   ]
  }
 ],
 "metadata": {
  "language_info": {
   "name": "python"
  }
 },
 "nbformat": 4,
 "nbformat_minor": 2
}
